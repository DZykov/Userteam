{
 "cells": [
  {
   "cell_type": "code",
   "execution_count": 30,
   "metadata": {},
   "outputs": [],
   "source": [
    "import pandas as pd\n",
    "import numpy as np"
   ]
  },
  {
   "cell_type": "code",
   "execution_count": 6,
   "metadata": {},
   "outputs": [],
   "source": []
  },
  {
   "cell_type": "code",
   "execution_count": 47,
   "metadata": {},
   "outputs": [],
   "source": []
  },
  {
   "cell_type": "code",
   "execution_count": 49,
   "metadata": {},
   "outputs": [],
   "source": [
    "\n",
    "    \n",
    "links = pd.read_csv(\"data/tags.csv\")\n",
    "\n",
    "#links[\"ids\"].map(int)\n",
    "links = links.dropna()\n",
    "links[\"ids\"] = \"https://tproger.ru/?p=\" + links[\"ids\"].map(lambda x:str(int(x)))\n",
    "\n",
    "tags = np.unique(np.array(\",\".join(list(links[\"tags\"])).split(\",\")))\n",
    "\n",
    "for tag in tags:\n",
    "    links[tag.split(\"/\")[-2]] = links[\"tags\"].map(lambda x: tag in x)\n",
    "    \n",
    "links.columns\n",
    "\n",
    "del links[\"tags\"]"
   ]
  },
  {
   "cell_type": "code",
   "execution_count": 53,
   "metadata": {},
   "outputs": [],
   "source": [
    "links.to_csv(\"data/tagsConv.csv\", index=False)"
   ]
  },
  {
   "cell_type": "code",
   "execution_count": 42,
   "metadata": {},
   "outputs": [
    {
     "data": {
      "text/plain": [
       "Index(['Unnamed: 0', 'tags', 'ids', 'advices', 'ai', 'algorithms',\n",
       "       'algos-and-data-structs', 'amazon', 'android', 'api',\n",
       "       ...\n",
       "       'swift', 'telegram', 'testing', 'tools', 'unity', 'veb-design',\n",
       "       'vkontakte', 'vpn', 'web', 'windows'],\n",
       "      dtype='object', length=111)"
      ]
     },
     "execution_count": 42,
     "metadata": {},
     "output_type": "execute_result"
    }
   ],
   "source": [
    "userId = 2000\n",
    "\n",
    "pd.read_csv(\"cli\")"
   ]
  },
  {
   "cell_type": "code",
   "execution_count": 37,
   "metadata": {},
   "outputs": [
    {
     "data": {
      "text/plain": [
       "'windows'"
      ]
     },
     "execution_count": 37,
     "metadata": {},
     "output_type": "execute_result"
    }
   ],
   "source": [
    "links = "
   ]
  }
 ],
 "metadata": {
  "kernelspec": {
   "display_name": "Python 3",
   "language": "python",
   "name": "python3"
  },
  "language_info": {
   "codemirror_mode": {
    "name": "ipython",
    "version": 3
   },
   "file_extension": ".py",
   "mimetype": "text/x-python",
   "name": "python",
   "nbconvert_exporter": "python",
   "pygments_lexer": "ipython3",
   "version": "3.6.7"
  }
 },
 "nbformat": 4,
 "nbformat_minor": 2
}
